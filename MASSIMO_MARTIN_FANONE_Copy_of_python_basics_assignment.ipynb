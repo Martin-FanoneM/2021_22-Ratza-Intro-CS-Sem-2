{
  "nbformat": 4,
  "nbformat_minor": 0,
  "metadata": {
    "colab": {
      "name": "MASSIMO MARTIN-FANONE - Copy of python_basics_assignment.ipynb",
      "provenance": [],
      "collapsed_sections": [],
      "include_colab_link": true
    },
    "kernelspec": {
      "name": "python3",
      "display_name": "Python 3"
    },
    "language_info": {
      "name": "python"
    }
  },
  "cells": [
    {
      "cell_type": "markdown",
      "metadata": {
        "id": "view-in-github",
        "colab_type": "text"
      },
      "source": [
        "<a href=\"https://colab.research.google.com/github/Martin-FanoneM/2021_22-Ratza-Intro-CS-Sem-2/blob/main/MASSIMO_MARTIN_FANONE_Copy_of_python_basics_assignment.ipynb\" target=\"_parent\"><img src=\"https://colab.research.google.com/assets/colab-badge.svg\" alt=\"Open In Colab\"/></a>"
      ]
    },
    {
      "cell_type": "markdown",
      "source": [
        "### Key Terms\n",
        "\n",
        "Complete the following questions to solidify you're understanding of the key concepts. Feel free to use the lecture notebook or any other resources to help you, but do not copy and paste answers from the internet instead use your own words to present your understanding.\n",
        "\n",
        "----"
      ],
      "metadata": {
        "id": "2cOCCaF6Q4ys"
      }
    },
    {
      "cell_type": "markdown",
      "source": [
        "What is a general use programming language?"
      ],
      "metadata": {
        "id": "e_bDYmbjRHNc"
      }
    },
    {
      "cell_type": "markdown",
      "source": [
        "A language with a wide variety of aplications that is used often"
      ],
      "metadata": {
        "id": "ROigjjFsRHKB"
      }
    },
    {
      "cell_type": "markdown",
      "source": [
        "Who invented Python and when?"
      ],
      "metadata": {
        "id": "X4j6a8y4RHGG"
      }
    },
    {
      "cell_type": "markdown",
      "source": [
        "Guido van Rossum released it in 1991"
      ],
      "metadata": {
        "id": "B5WWUhgXRHDt"
      }
    },
    {
      "cell_type": "markdown",
      "source": [
        "What is the difference between front-end and back-end?"
      ],
      "metadata": {
        "id": "RHkgvf39RHBm"
      }
    },
    {
      "cell_type": "markdown",
      "source": [
        "Front end code is visible and regularly interacted with. Back end code is not often interacted with by the user"
      ],
      "metadata": {
        "id": "cl7LFD3pRG_H"
      }
    },
    {
      "cell_type": "markdown",
      "source": [
        "What is a GUI?"
      ],
      "metadata": {
        "id": "oTkkpwhVRG80"
      }
    },
    {
      "cell_type": "markdown",
      "source": [
        "A Graphical User Interface, the things the user can click and interact with"
      ],
      "metadata": {
        "id": "aoVSrA67RG6D"
      }
    },
    {
      "cell_type": "markdown",
      "source": [
        "What is an API?"
      ],
      "metadata": {
        "id": "nHjQwFW1RG4C"
      }
    },
    {
      "cell_type": "markdown",
      "source": [
        "Application Program Interface, executes commands given to it by the front end"
      ],
      "metadata": {
        "id": "0A6LKX_5RG1x"
      }
    },
    {
      "cell_type": "markdown",
      "source": [
        "What is Open Source Software?"
      ],
      "metadata": {
        "id": "RWzJmW61RGzR"
      }
    },
    {
      "cell_type": "markdown",
      "source": [
        "Code that anyone can see, edit, and use"
      ],
      "metadata": {
        "id": "J8Lcpl46RGwu"
      }
    },
    {
      "cell_type": "markdown",
      "source": [
        "What is a development environment?"
      ],
      "metadata": {
        "id": "gob_Rgp8RGqT"
      }
    },
    {
      "cell_type": "markdown",
      "source": [
        "Wherever a programmer does their work"
      ],
      "metadata": {
        "id": "BCPeV2UCRGZm"
      }
    },
    {
      "cell_type": "markdown",
      "source": [
        "What is meant by local and remote in the context of computers?"
      ],
      "metadata": {
        "id": "lKduQMuWSYoC"
      }
    },
    {
      "cell_type": "markdown",
      "source": [
        "Remote is accessed through the internet, Local requires no internet access"
      ],
      "metadata": {
        "id": "GcJMiJjFSfO2"
      }
    },
    {
      "cell_type": "markdown",
      "source": [
        "What is an operating system?"
      ],
      "metadata": {
        "id": "cb6Coc48Sgev"
      }
    },
    {
      "cell_type": "markdown",
      "source": [
        "The point between the user and the hardware of the computer"
      ],
      "metadata": {
        "id": "586kJGbvSlw5"
      }
    },
    {
      "cell_type": "markdown",
      "source": [
        "What is a kernel?"
      ],
      "metadata": {
        "id": "7tRiStzGSltk"
      }
    },
    {
      "cell_type": "markdown",
      "source": [
        "The part of the operating system that controls the hardware"
      ],
      "metadata": {
        "id": "jp5g1ZgWSlq6"
      }
    },
    {
      "cell_type": "markdown",
      "source": [
        "What is a shell?"
      ],
      "metadata": {
        "id": "WdOAakQJSloH"
      }
    },
    {
      "cell_type": "markdown",
      "source": [
        "The computer program that reveals the OS's services to the user"
      ],
      "metadata": {
        "id": "Gpaic8JSSlle"
      }
    },
    {
      "cell_type": "markdown",
      "source": [
        "What shell do we have access to in Colab notebooks?"
      ],
      "metadata": {
        "id": "hn5QICK0Slio"
      }
    },
    {
      "cell_type": "markdown",
      "source": [
        "bash"
      ],
      "metadata": {
        "id": "vYRb0JJXSlfx"
      }
    },
    {
      "cell_type": "markdown",
      "source": [
        "What is an interpreter?"
      ],
      "metadata": {
        "id": "dmgmzh-ISldB"
      }
    },
    {
      "cell_type": "markdown",
      "source": [
        "converts written code into something a machine can read"
      ],
      "metadata": {
        "id": "Y79bP4GLS3bI"
      }
    },
    {
      "cell_type": "markdown",
      "source": [
        "What is a value in programming?"
      ],
      "metadata": {
        "id": "A2q30j02S3G3"
      }
    },
    {
      "cell_type": "markdown",
      "source": [
        "A place to store a value"
      ],
      "metadata": {
        "id": "ilES-rT6S9vm"
      }
    },
    {
      "cell_type": "markdown",
      "source": [
        "What is an expression in programming?"
      ],
      "metadata": {
        "id": "KI34llQnS--5"
      }
    },
    {
      "cell_type": "markdown",
      "source": [
        "A line of code"
      ],
      "metadata": {
        "id": "VHXYGhIcTBw9"
      }
    },
    {
      "cell_type": "markdown",
      "source": [
        "What is syntax?"
      ],
      "metadata": {
        "id": "pmKFicLMTCcD"
      }
    },
    {
      "cell_type": "markdown",
      "source": [
        "The grammatical rules that code follows"
      ],
      "metadata": {
        "id": "sqCxeE2TTKvy"
      }
    },
    {
      "cell_type": "markdown",
      "source": [
        "What do we call the process of discovering and resolving errors?"
      ],
      "metadata": {
        "id": "B8m5jqm6TLHE"
      }
    },
    {
      "cell_type": "markdown",
      "source": [
        "Bug fixing"
      ],
      "metadata": {
        "id": "0TozR78oTRK4"
      }
    },
    {
      "cell_type": "markdown",
      "source": [
        "### Code"
      ],
      "metadata": {
        "id": "OJR_RDQpTRyR"
      }
    },
    {
      "cell_type": "markdown",
      "source": [
        "Let's revisit some of the things we practiced in the lecture. In the code cell below print your name to the console without first declaring it as a variable."
      ],
      "metadata": {
        "id": "zPvODBfiTWCP"
      }
    },
    {
      "cell_type": "code",
      "source": [
        "print(\"Massimo\")"
      ],
      "metadata": {
        "id": "mZb-v_UwTO7B",
        "colab": {
          "base_uri": "https://localhost:8080/"
        },
        "outputId": "d79e401a-562a-484c-e726-96ab62344386"
      },
      "execution_count": null,
      "outputs": [
        {
          "output_type": "stream",
          "name": "stdout",
          "text": [
            "Massimo\n"
          ]
        }
      ]
    },
    {
      "cell_type": "markdown",
      "source": [
        "Now declare your first name and last name as separate variables and combine them in the print statement."
      ],
      "metadata": {
        "id": "sZPksnwpTnTD"
      }
    },
    {
      "cell_type": "code",
      "source": [
        "last_name = \"Martin-Fanone\"\n",
        "first_name = \"Massimo\"\n",
        "print(first_name + \" \" + last_name)"
      ],
      "metadata": {
        "id": "oqmZRhYLTztw",
        "colab": {
          "base_uri": "https://localhost:8080/"
        },
        "outputId": "986dd5f3-acc9-44ce-fc24-9cc566ffa71b"
      },
      "execution_count": null,
      "outputs": [
        {
          "output_type": "stream",
          "name": "stdout",
          "text": [
            "Massimo Martin-Fanone\n"
          ]
        }
      ]
    },
    {
      "cell_type": "markdown",
      "source": [
        "In the cell below run the \"Zen of Python\" easter egg."
      ],
      "metadata": {
        "id": "cNe3K4WZT2_0"
      }
    },
    {
      "cell_type": "code",
      "source": [
        "import this"
      ],
      "metadata": {
        "id": "FSkN7Q52UKyU",
        "colab": {
          "base_uri": "https://localhost:8080/"
        },
        "outputId": "3c9f39cf-405a-4c6c-ca80-28725f6d1e82"
      },
      "execution_count": null,
      "outputs": [
        {
          "output_type": "stream",
          "name": "stdout",
          "text": [
            "The Zen of Python, by Tim Peters\n",
            "\n",
            "Beautiful is better than ugly.\n",
            "Explicit is better than implicit.\n",
            "Simple is better than complex.\n",
            "Complex is better than complicated.\n",
            "Flat is better than nested.\n",
            "Sparse is better than dense.\n",
            "Readability counts.\n",
            "Special cases aren't special enough to break the rules.\n",
            "Although practicality beats purity.\n",
            "Errors should never pass silently.\n",
            "Unless explicitly silenced.\n",
            "In the face of ambiguity, refuse the temptation to guess.\n",
            "There should be one-- and preferably only one --obvious way to do it.\n",
            "Although that way may not be obvious at first unless you're Dutch.\n",
            "Now is better than never.\n",
            "Although never is often better than *right* now.\n",
            "If the implementation is hard to explain, it's a bad idea.\n",
            "If the implementation is easy to explain, it may be a good idea.\n",
            "Namespaces are one honking great idea -- let's do more of those!\n"
          ]
        }
      ]
    },
    {
      "cell_type": "markdown",
      "source": [
        "### Explore"
      ],
      "metadata": {
        "id": "2ADI5kQAUMLI"
      }
    },
    {
      "cell_type": "markdown",
      "source": [
        "This portion of the assignment contains things we didn't explicitly cover in the lecture, instead encouraging you to explore and experiment on your own to discover some of the different operators and expressions in Python. For each expression first describe what you expect to happen before running the code cell.\n",
        "\n",
        "Documentation for Python's numeric operators can be found [here](https://docs.python.org/3.10/library/stdtypes.html#numeric-types-int-float-complex)"
      ],
      "metadata": {
        "id": "vchHFmicUOid"
      }
    },
    {
      "cell_type": "markdown",
      "source": [
        "#### `5 + 2 * 2`\n",
        "\n",
        "What do you expect to happen?"
      ],
      "metadata": {
        "id": "_lTiBbJMU28S"
      }
    },
    {
      "cell_type": "markdown",
      "source": [
        "I expect the end number to be 9"
      ],
      "metadata": {
        "id": "P6-diOTwU_ir"
      }
    },
    {
      "cell_type": "code",
      "source": [
        "5+2*2"
      ],
      "metadata": {
        "id": "ALTC2aYRUNRe",
        "colab": {
          "base_uri": "https://localhost:8080/"
        },
        "outputId": "bb37aa31-5b6b-407a-c37f-6a3440b09ddb"
      },
      "execution_count": null,
      "outputs": [
        {
          "output_type": "execute_result",
          "data": {
            "text/plain": [
              "9"
            ]
          },
          "metadata": {},
          "execution_count": 2
        }
      ]
    },
    {
      "cell_type": "markdown",
      "source": [
        "#### `2 / 3`\n",
        "\n",
        "What do you expect to happen?"
      ],
      "metadata": {
        "id": "zSMDH8osVEEN"
      }
    },
    {
      "cell_type": "markdown",
      "source": [
        "I expect he result to be 0.666666666"
      ],
      "metadata": {
        "id": "MJ_mZbouVI9_"
      }
    },
    {
      "cell_type": "code",
      "source": [
        "2/3"
      ],
      "metadata": {
        "id": "FYMUlyCEVHD1",
        "colab": {
          "base_uri": "https://localhost:8080/"
        },
        "outputId": "d3784c8d-289e-45f4-cc1a-eea07cf4f430"
      },
      "execution_count": null,
      "outputs": [
        {
          "output_type": "execute_result",
          "data": {
            "text/plain": [
              "0.6666666666666666"
            ]
          },
          "metadata": {},
          "execution_count": 3
        }
      ]
    },
    {
      "cell_type": "markdown",
      "source": [
        "#### `2.5 * 10`\n",
        "\n",
        "What do you expect to happen?"
      ],
      "metadata": {
        "id": "c8LQrbNQVIID"
      }
    },
    {
      "cell_type": "markdown",
      "source": [
        "I expect the result to be 25"
      ],
      "metadata": {
        "id": "J1Ts7WLEVPU-"
      }
    },
    {
      "cell_type": "code",
      "source": [
        "2.5*10"
      ],
      "metadata": {
        "id": "IuE7GclzVOpO",
        "colab": {
          "base_uri": "https://localhost:8080/"
        },
        "outputId": "f7724e57-93ee-4bef-a72e-9939c8ae0325"
      },
      "execution_count": null,
      "outputs": [
        {
          "output_type": "execute_result",
          "data": {
            "text/plain": [
              "25.0"
            ]
          },
          "metadata": {},
          "execution_count": 4
        }
      ]
    },
    {
      "cell_type": "markdown",
      "source": [
        "#### `a`\n",
        "\n",
        "What do you expect to happen?"
      ],
      "metadata": {
        "id": "YfKfY31nVSfy"
      }
    },
    {
      "cell_type": "markdown",
      "source": [
        "I expect an error"
      ],
      "metadata": {
        "id": "Y_FQACtgVVL8"
      }
    },
    {
      "cell_type": "code",
      "source": [
        "a"
      ],
      "metadata": {
        "id": "pukzPvzXVUgM",
        "colab": {
          "base_uri": "https://localhost:8080/",
          "height": 165
        },
        "outputId": "82490c13-41d3-47c8-c64d-3b6cc3a0d520"
      },
      "execution_count": null,
      "outputs": [
        {
          "output_type": "error",
          "ename": "NameError",
          "evalue": "ignored",
          "traceback": [
            "\u001b[0;31m---------------------------------------------------------------------------\u001b[0m",
            "\u001b[0;31mNameError\u001b[0m                                 Traceback (most recent call last)",
            "\u001b[0;32m<ipython-input-5-3f786850e387>\u001b[0m in \u001b[0;36m<module>\u001b[0;34m()\u001b[0m\n\u001b[0;32m----> 1\u001b[0;31m \u001b[0ma\u001b[0m\u001b[0;34m\u001b[0m\u001b[0;34m\u001b[0m\u001b[0m\n\u001b[0m",
            "\u001b[0;31mNameError\u001b[0m: name 'a' is not defined"
          ]
        }
      ]
    },
    {
      "cell_type": "markdown",
      "source": [
        "#### `'a'`\n",
        "\n",
        "\n",
        "What do you expect to happen?"
      ],
      "metadata": {
        "id": "x_G2qoXLVhVj"
      }
    },
    {
      "cell_type": "markdown",
      "source": [
        "I expect nothing will happen"
      ],
      "metadata": {
        "id": "IjTY1xn_VoB4"
      }
    },
    {
      "cell_type": "code",
      "source": [
        "'a'"
      ],
      "metadata": {
        "id": "e0PEkzRHVjVo",
        "colab": {
          "base_uri": "https://localhost:8080/",
          "height": 35
        },
        "outputId": "4cc09521-2ca4-48b9-ea81-d59042d2df04"
      },
      "execution_count": null,
      "outputs": [
        {
          "output_type": "execute_result",
          "data": {
            "application/vnd.google.colaboratory.intrinsic+json": {
              "type": "string"
            },
            "text/plain": [
              "'a'"
            ]
          },
          "metadata": {},
          "execution_count": 6
        }
      ]
    },
    {
      "cell_type": "markdown",
      "source": [
        "#### `521 // 5`\n",
        "\n",
        "What do you expect to happen?"
      ],
      "metadata": {
        "id": "2kCnvuRvVprG"
      }
    },
    {
      "cell_type": "markdown",
      "source": [
        "I expect the result to be 104"
      ],
      "metadata": {
        "id": "QWOocovcV3i6"
      }
    },
    {
      "cell_type": "code",
      "source": [
        "521 // 5"
      ],
      "metadata": {
        "id": "n9QgKjHxV7oX",
        "colab": {
          "base_uri": "https://localhost:8080/"
        },
        "outputId": "1b494c6d-c738-444f-8330-bb14b9aa2cd0"
      },
      "execution_count": null,
      "outputs": [
        {
          "output_type": "execute_result",
          "data": {
            "text/plain": [
              "104"
            ]
          },
          "metadata": {},
          "execution_count": 7
        }
      ]
    }
  ]
}